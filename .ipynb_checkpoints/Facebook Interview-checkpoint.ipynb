{
 "cells": [
  {
   "cell_type": "markdown",
   "metadata": {},
   "source": [
    "# Print out all the products of a list of prime numbers"
   ]
  },
  {
   "cell_type": "code",
   "execution_count": 4,
   "metadata": {},
   "outputs": [
    {
     "name": "stdout",
     "output_type": "stream",
     "text": [
      "[3, 5, 15, 7, 21, 35, 105, 11, 33, 55, 165, 77, 231, 385, 1155, 13, 39, 65, 195, 91, 273, 455, 1365, 143, 429, 715, 2145, 1001, 3003, 5005, 15015]\n",
      "32\n",
      "[3, 5, 15, 7, 21, 35, 105, 11, 33, 55, 165, 77, 231, 385, 1155, 13, 39, 65, 195, 91, 273, 455, 1365, 143, 429, 715, 2145, 1001, 3003, 5005, 15015, 1]\n",
      "32\n",
      "[3, 5, 15, 7, 21, 35, 105, 11, 33, 55, 165, 77, 231, 385, 1155, 13, 39, 65, 195, 91, 273, 455, 1365, 143, 429, 715, 2145, 1001, 3003, 5005, 15015, 2, 6, 10, 30, 14, 42, 70, 210, 22, 66, 110, 330, 154, 462, 770, 2310, 26, 78, 130, 390, 182, 546, 910, 2730, 286, 858, 1430, 4290, 2002, 6006, 10010, 30030, 1]\n",
      "64\n",
      "[3, 5, 15, 7, 21, 35, 105, 11, 33, 55, 165, 77, 231, 385, 1155, 13, 39, 65, 195, 91, 273, 455, 1365, 143, 429, 715, 2145, 1001, 3003, 5005, 15015, 2, 6, 10, 30, 14, 42, 70, 210, 22, 66, 110, 330, 154, 462, 770, 2310, 26, 78, 130, 390, 182, 546, 910, 2730, 286, 858, 1430, 4290, 2002, 6006, 10010, 30030, 23, 69, 115, 345, 161, 483, 805, 2415, 253, 759, 1265, 3795, 1771, 5313, 8855, 26565, 299, 897, 1495, 4485, 2093, 6279, 10465, 31395, 3289, 9867, 16445, 49335, 23023, 69069, 115115, 345345, 46, 138, 230, 690, 322, 966, 1610, 4830, 506, 1518, 2530, 7590, 3542, 10626, 17710, 53130, 598, 1794, 2990, 8970, 4186, 12558, 20930, 62790, 6578, 19734, 32890, 98670, 46046, 138138, 230230, 690690, 1]\n",
      "128\n"
     ]
    }
   ],
   "source": [
    "arr_list = [3, 5, 7, 11, 13]\n",
    "\n",
    "def print_product(arr):\n",
    "    print_1 = False\n",
    "\n",
    "    # Need to handle the case where 1 is in the list.  If 1 is not in the list, I add it to the list in order to \n",
    "    # seed the products of the original numbers and print the orignal numbers themselves\n",
    "    if 1 in arr:\n",
    "        arr = [a for a in arr if a != 1]\n",
    "        print_1 = True\n",
    "\n",
    "    end_list = [1]\n",
    "\n",
    "    [end_list.extend([a * b for b in end_list]) for a in arr] # If you remember, I was talking about using extend \n",
    "                                                              # and once I tought about it more, I figured out this really easy\n",
    "                                                              # way to use extend\n",
    "\n",
    "    print end_list[1:] + ([1] if print_1 else [])\n",
    "    print len(end_list)\n",
    "\n",
    "print_product(arr_list)\n",
    "arr_list = arr_list + [1]\n",
    "print_product(arr_list)\n",
    "arr_list = arr_list + [2]\n",
    "print_product(arr_list)\n",
    "arr_list = arr_list + [23]\n",
    "print_product(arr_list)\n",
    "\n",
    "# bounded by 2^n storage and complexity\n"
   ]
  },
  {
   "cell_type": "markdown",
   "metadata": {},
   "source": [
    "# Save and recreate a binary tree"
   ]
  },
  {
   "cell_type": "code",
   "execution_count": 6,
   "metadata": {},
   "outputs": [
    {
     "name": "stdout",
     "output_type": "stream",
     "text": [
      "[4, 6, None, 1, 7, None, None, 2, None, None, None]\n",
      "11\n"
     ]
    }
   ],
   "source": [
    "root = {}\n",
    "root['value'] = 4\n",
    "root['left'] = {}\n",
    "root['left']['value'] = 6\n",
    "root['left']['right'] = {}\n",
    "root['left']['right']['value'] = 1\n",
    "root['left']['right']['left'] = {}\n",
    "root['left']['right']['right'] = {}\n",
    "root['left']['right']['left']['value'] = 7\n",
    "root['left']['right']['right']['value'] = 2\n",
    "\n",
    "def serialize(root_node):\n",
    "    if not root_node:\n",
    "        return [None]\n",
    "    \n",
    "    arr = [root_node['value']] + serialize(root_node.get('left')) + serialize(root_node.get('right'))\n",
    "    \n",
    "    return arr\n",
    "\n",
    "print serialize(root)\n",
    "print len(serialize(root))\n",
    "\n",
    "# bounded by (2)n for storage and complexity\n"
   ]
  },
  {
   "cell_type": "code",
   "execution_count": 7,
   "metadata": {},
   "outputs": [
    {
     "name": "stdout",
     "output_type": "stream",
     "text": [
      "{'right': None, 'value': 4, 'left': {'right': {'right': {'right': None, 'value': 2, 'left': None}, 'value': 1, 'left': {'right': None, 'value': 7, 'left': None}}, 'value': 6, 'left': None}}\n"
     ]
    }
   ],
   "source": [
    "arr = [4, 6, None, 1, 7, None, None, 2, None, None, None]\n",
    "\n",
    "def deserialize(arr_list):\n",
    "    root, index = make_node(arr_list, 0)\n",
    "    \n",
    "    return root\n",
    "\n",
    "def make_node(arr_list, index):\n",
    "    if not arr_list[index]:\n",
    "        return None, index\n",
    "    \n",
    "    node = {}\n",
    "    node['value'] = arr_list[index]\n",
    "        \n",
    "    node['left'], index = make_node(arr_list, index + 1)\n",
    "    node['right'], index = make_node(arr_list, index + 1)\n",
    "    # Previously, I was passsing the remainder of the whole list.  This is how to use indices\n",
    "\n",
    "    return node, index\n",
    "\n",
    "print deserialize(arr)\n",
    "\n",
    "# bounded by (2)n for storage and complexity\n"
   ]
  },
  {
   "cell_type": "markdown",
   "metadata": {},
   "source": [
    "# Find rectangles in between points"
   ]
  },
  {
   "cell_type": "code",
   "execution_count": 9,
   "metadata": {},
   "outputs": [
    {
     "name": "stdout",
     "output_type": "stream",
     "text": [
      "True\n",
      "25\n",
      "5\n",
      "True\n",
      "26\n",
      "6\n",
      "True\n",
      "30\n",
      "7\n",
      "True\n",
      "42\n",
      "8\n",
      "True\n",
      "62\n",
      "9\n",
      "True\n",
      "90\n",
      "10\n"
     ]
    }
   ],
   "source": [
    "arr_list = [(1, 1), (1, 3), (1, 5), (3, 1), (3, 3), (2, 2), (5, 5), (2, 5), (5, 2), ]\n",
    "\n",
    "def find_rectangle(arr):\n",
    "    map_x = {}\n",
    "    map_y = {}\n",
    "    \n",
    "    found = False\n",
    "\n",
    "    for point in arr:\n",
    "        if not map_x.get(point[0]):\n",
    "            map_x[point[0]] = {}\n",
    "        if not map_y.get(point[1]):\n",
    "            map_y[point[1]] = {}\n",
    "\n",
    "        map_x[point[0]][point[1]] = 1\n",
    "        map_y[point[1]][point[0]] = 1\n",
    "\n",
    "    count = 0\n",
    "\n",
    "    for key_x in map_x:  # For each x point\n",
    "        count = count + 1\n",
    "        if len(map_x[key_x]) > 1:  # If there is more than 1 point with that x coordinate\n",
    "            for key_y in map_x[key_x]:   # Then, find a y coordinate for the first point\n",
    "                count = count + 1\n",
    "                if len(map_y[key_y]) > 1:  # Again, check if there multiple points with this y coordinate\n",
    "                    for key_x2 in map_y[key_y]:  # Find the x coordinate of another point with the same y coordinate (Go find point #2)\n",
    "                        count = count + 1\n",
    "                        if key_x != key_x2:\n",
    "                            for key_y2 in map_x[key_x2]:  # Find other y coordinates as the x coordinate of point #2 (Go find point #3)\n",
    "                                count = count + 1\n",
    "                                if key_y != key_y2:\n",
    "                                    if map_x[key_x].get(key_y2):  # Check if point #4 exists\n",
    "                                        # print (key_x, key_y), (key_x2, key_y), (key_x, key_y2), (key_x2, key_y2),\n",
    "                                        found = True\n",
    "\n",
    "    print found\n",
    "    print count\n",
    "    print len(arr)\n",
    "\n",
    "find_rectangle(arr_list[0:5])\n",
    "find_rectangle(arr_list[0:6])\n",
    "find_rectangle(arr_list[0:7])\n",
    "find_rectangle(arr_list[0:8])\n",
    "find_rectangle(arr_list[0:9])\n",
    "\n",
    "arr_list = [(1, 1), (1, 2), (1, 3), (3, 1), (3, 3), (2, 1), (2, 2), (1, 4), (4, 1), (4, 4), ]\n",
    "find_rectangle(arr_list)\n",
    "# Since this example produces the most iterations, this solution is bounded by n^2 complexity and (3)n storage\n"
   ]
  },
  {
   "cell_type": "markdown",
   "metadata": {
    "collapsed": true
   },
   "source": [
    "I was considering how to save each of the rectangles that I found and came up with (another) 2 dimensional map where the (min x, min y) is the first key and (max x, max y) is the second key.  It would reduce the number of iterations, but increase the complexity of the code.  I was also considering saving a ordered list of y coordinates at each x coordinate.  And then only traversing higher points.  This would also reduce the number of iterations, but I'm not sure if it would add any more value.\n"
   ]
  }
 ],
 "metadata": {
  "kernelspec": {
   "display_name": "Python 2",
   "language": "python",
   "name": "python2"
  },
  "language_info": {
   "codemirror_mode": {
    "name": "ipython",
    "version": 2
   },
   "file_extension": ".py",
   "mimetype": "text/x-python",
   "name": "python",
   "nbconvert_exporter": "python",
   "pygments_lexer": "ipython2",
   "version": "2.7.14"
  }
 },
 "nbformat": 4,
 "nbformat_minor": 2
}
